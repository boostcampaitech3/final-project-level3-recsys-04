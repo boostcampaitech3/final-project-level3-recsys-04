{
 "cells": [
  {
   "cell_type": "markdown",
   "metadata": {},
   "source": [
    "# 인기도 기반 추천 리스트를 DB에 저장"
   ]
  },
  {
   "cell_type": "code",
   "execution_count": 14,
   "metadata": {},
   "outputs": [],
   "source": [
    "import pandas as pd\n",
    "from tqdm import tqdm\n",
    "from pymongo import MongoClient"
   ]
  },
  {
   "cell_type": "code",
   "execution_count": 2,
   "metadata": {},
   "outputs": [],
   "source": [
    "client = MongoClient('###')\n",
    "db = client['final_project']\n",
    "popularity = db['popularity']"
   ]
  },
  {
   "cell_type": "code",
   "execution_count": 3,
   "metadata": {},
   "outputs": [],
   "source": [
    "result = list(db.repository.find())"
   ]
  },
  {
   "cell_type": "code",
   "execution_count": 16,
   "metadata": {},
   "outputs": [
    {
     "name": "stderr",
     "output_type": "stream",
     "text": [
      "100%|██████████| 2698/2698 [00:00<00:00, 498336.81it/s]\n"
     ]
    }
   ],
   "source": [
    "cats = set()\n",
    "for r in tqdm(result):\n",
    "    cats.add(r['category']['category_M'])"
   ]
  },
  {
   "cell_type": "code",
   "execution_count": 17,
   "metadata": {},
   "outputs": [
    {
     "data": {
      "text/plain": [
       "{'Angular', 'Deno', 'Electron', 'Node.js', 'React', 'Vue.js'}"
      ]
     },
     "execution_count": 17,
     "metadata": {},
     "output_type": "execute_result"
    }
   ],
   "source": [
    "cats"
   ]
  },
  {
   "cell_type": "code",
   "execution_count": 31,
   "metadata": {},
   "outputs": [
    {
     "name": "stderr",
     "output_type": "stream",
     "text": [
      "100%|██████████| 2698/2698 [00:00<00:00, 318623.50it/s]\n"
     ]
    }
   ],
   "source": [
    "all = []\n",
    "angs = []\n",
    "dens = []\n",
    "eles = []\n",
    "nods = []\n",
    "reas = []\n",
    "vues = []\n",
    "for r in tqdm(result):\n",
    "    all.append((r['rid'], r['stars']))\n",
    "    if r['category']['category_M'] == 'Angular':\n",
    "        angs.append((r['rid'], r['stars']))\n",
    "    elif r['category']['category_M'] == 'Deno':\n",
    "        dens.append((r['rid'], r['stars']))\n",
    "    elif r['category']['category_M'] == 'Electron':\n",
    "        eles.append((r['rid'], r['stars']))\n",
    "    elif r['category']['category_M'] == 'Node.js':\n",
    "        nods.append((r['rid'], r['stars']))\n",
    "    elif r['category']['category_M'] == 'React':\n",
    "        reas.append((r['rid'], r['stars']))\n",
    "    elif r['category']['category_M'] == 'Vue.js':\n",
    "        vues.append((r['rid'], r['stars']))\n",
    "\n",
    "all.sort(key=lambda x: x[1], reverse=True)\n",
    "angs.sort(key=lambda x: x[1], reverse=True)\n",
    "dens.sort(key=lambda x: x[1], reverse=True)\n",
    "eles.sort(key=lambda x: x[1], reverse=True)\n",
    "nods.sort(key=lambda x: x[1], reverse=True)\n",
    "reas.sort(key=lambda x: x[1], reverse=True)\n",
    "vues.sort(key=lambda x: x[1], reverse=True)"
   ]
  },
  {
   "cell_type": "code",
   "execution_count": 32,
   "metadata": {},
   "outputs": [],
   "source": [
    "pop_dic = {}\n",
    "pop_dic['all'] = [x[0] for x in all[:50]]\n",
    "pop_dic['Angular'] = [x[0] for x in angs[:50]]\n",
    "pop_dic['Deno'] = [x[0] for x in dens[:50]]\n",
    "pop_dic['Electron'] = [x[0] for x in eles[:50]]\n",
    "pop_dic['Node.js'] = [x[0] for x in nods[:50]]\n",
    "pop_dic['React'] = [x[0] for x in reas[:50]]\n",
    "pop_dic['Vue.js'] = [x[0] for x in vues[:50]]\n",
    "\n",
    "pop_list = [pop_dic]"
   ]
  },
  {
   "cell_type": "code",
   "execution_count": null,
   "metadata": {},
   "outputs": [],
   "source": [
    "popularity.insert_many(pop_list)"
   ]
  }
 ],
 "metadata": {
  "interpreter": {
   "hash": "c99252ed73a552a6899d92d5a5d82262e57f63e1e5eeebfa3f94841b186c0505"
  },
  "kernelspec": {
   "display_name": "Python 3.8.5 ('.venv': venv)",
   "language": "python",
   "name": "python3"
  },
  "language_info": {
   "codemirror_mode": {
    "name": "ipython",
    "version": 3
   },
   "file_extension": ".py",
   "mimetype": "text/x-python",
   "name": "python",
   "nbconvert_exporter": "python",
   "pygments_lexer": "ipython3",
   "version": "3.8.5"
  },
  "orig_nbformat": 4
 },
 "nbformat": 4,
 "nbformat_minor": 2
}
